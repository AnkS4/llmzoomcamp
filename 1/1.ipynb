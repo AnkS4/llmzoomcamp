{
 "cells": [
  {
   "cell_type": "markdown",
   "metadata": {},
   "source": [
    "1. Check the version.build_hash value\n",
    "\n",
    "Using elasticsearch==9.0.2 instead of elasticsearch==8.4.3 due to errors"
   ]
  },
  {
   "cell_type": "code",
   "execution_count": 2,
   "metadata": {},
   "outputs": [
    {
     "name": "stdout",
     "output_type": "stream",
     "text": [
      "    \"number\" : \"9.0.2\",\n",
      "elasticsearch             9.0.2\n"
     ]
    }
   ],
   "source": [
    "# Elasticsearch server version (must be running)\n",
    "!curl -s http://localhost:9200 | grep number\n",
    "\n",
    "!pip list | grep elasticsearch\n",
    "# Python client version (in current environment)\n"
   ]
  },
  {
   "cell_type": "code",
   "execution_count": 3,
   "metadata": {},
   "outputs": [
    {
     "name": "stdout",
     "output_type": "stream",
     "text": [
      "\u001b[0;32m\"0a58bc1dc7a4ae5412db66624aab968370bd44ce\"\u001b[0m\n"
     ]
    }
   ],
   "source": [
    "!curl -s localhost:9200 | jq '.version.build_hash'"
   ]
  },
  {
   "cell_type": "markdown",
   "metadata": {},
   "source": [
    "Get the FAQ data"
   ]
  },
  {
   "cell_type": "code",
   "execution_count": 10,
   "metadata": {},
   "outputs": [],
   "source": [
    "import requests\n",
    "# import minsearch\n",
    "import cohere\n",
    "import os\n",
    "import json\n",
    "from elasticsearch import Elasticsearch\n",
    "import tiktoken"
   ]
  },
  {
   "cell_type": "code",
   "execution_count": 4,
   "metadata": {},
   "outputs": [],
   "source": [
    "docs_url = 'https://github.com/DataTalksClub/llm-zoomcamp/blob/main/01-intro/documents.json?raw=1'\n",
    "docs_response = requests.get(docs_url)\n",
    "documents_raw = docs_response.json()\n",
    "\n",
    "documents = []\n",
    "\n",
    "for course in documents_raw:\n",
    "    course_name = course['course']\n",
    "\n",
    "    for doc in course['documents']:\n",
    "        doc['course'] = course_name\n",
    "        documents.append(doc)\n",
    "\n",
    "# Print the type of the 'documents' variable to confirm it's a list\n",
    "print(type(documents))\n",
    "\n",
    "# Print the number of documents loaded\n",
    "print(len(documents))\n",
    "\n",
    "# Print the first document to inspect its structure\n",
    "print(documents[0])"
   ]
  },
  {
   "cell_type": "markdown",
   "metadata": {},
   "source": [
    "2. Index the data"
   ]
  },
  {
   "cell_type": "code",
   "execution_count": 18,
   "metadata": {},
   "outputs": [
    {
     "data": {
      "text/plain": [
       "'\\n# Implementing RAG with MinSearch\\nindex = minsearch.Index(\\n    text_fields=[\"question\", \"text\", \"section\"],\\n    keyword_fields=[\"course\"]\\n)\\n\\nindex.fit(documents)\\n\\nresults = index.search(\\n    query=q,\\n    #filter_dict={\\'course\\': \\'machine-learning-zoomcamp\\'},\\n    boost_dict={\\'question\\': 4.0, \\'text\\': 1.0},\\n    num_results=5\\n)\\n\\nprint(results)\\n'"
      ]
     },
     "execution_count": 18,
     "metadata": {},
     "output_type": "execute_result"
    }
   ],
   "source": [
    "q = \"How do execute a command on a Kubernetes pod?\"\n",
    "\n",
    "\"\"\"\n",
    "# Implementing RAG with MinSearch\n",
    "index = minsearch.Index(\n",
    "    text_fields=[\"question\", \"text\", \"section\"],\n",
    "    keyword_fields=[\"course\"]\n",
    ")\n",
    "\n",
    "index.fit(documents)\n",
    "\n",
    "results = index.search(\n",
    "    query=q,\n",
    "    #filter_dict={'course': 'machine-learning-zoomcamp'},\n",
    "    boost_dict={'question': 4.0, 'text': 1.0},\n",
    "    num_results=5\n",
    ")\n",
    "\n",
    "print(results)\n",
    "\"\"\""
   ]
  },
  {
   "cell_type": "code",
   "execution_count": 17,
   "metadata": {},
   "outputs": [],
   "source": [
    "# Connect to Elasticsearch\n",
    "es = Elasticsearch(\"http://localhost:9200\")\n",
    "\n",
    "# Create the index if it doesn't exist\n",
    "if not es.indices.exists(index=\"my-index\"):\n",
    "    es.indices.create(index=\"my-index\")\n",
    "\n",
    "# Index each document in 'documents'\n",
    "for doc in documents:\n",
    "    es.index(index=\"my-index\", document=doc)\n"
   ]
  },
  {
   "cell_type": "markdown",
   "metadata": {},
   "source": [
    "3. Check the score for the top ranking result"
   ]
  },
  {
   "cell_type": "code",
   "execution_count": 19,
   "metadata": {},
   "outputs": [
    {
     "name": "stdout",
     "output_type": "stream",
     "text": [
      "Top result score: 44.50556\n"
     ]
    }
   ],
   "source": [
    "# Define the search query\n",
    "search_query = {\n",
    "    \"multi_match\": {\n",
    "        \"query\": q,\n",
    "        \"fields\": [\"question^4\", \"text\"],\n",
    "        \"type\": \"best_fields\"\n",
    "    }\n",
    "}\n",
    "\n",
    "# Execute the search using top-level 'query' parameter\n",
    "response = es.search(\n",
    "    index=\"my-index\",\n",
    "    query=search_query,\n",
    "    size=1  # Get only the top result\n",
    ")\n",
    "\n",
    "# Extract the top result's score\n",
    "hits = response[\"hits\"][\"hits\"]\n",
    "if hits:\n",
    "    top_score = hits[0][\"_score\"]\n",
    "    print(f\"Top result score: {top_score}\")\n",
    "else:\n",
    "    print(\"No results found.\")\n"
   ]
  },
  {
   "cell_type": "markdown",
   "metadata": {},
   "source": [
    "4. Filtering"
   ]
  },
  {
   "cell_type": "code",
   "execution_count": 25,
   "metadata": {},
   "outputs": [
    {
     "name": "stdout",
     "output_type": "stream",
     "text": [
      "How do I copy files from a different folder into docker container’s working directory?\n"
     ]
    }
   ],
   "source": [
    "q2 = \"How do copy a file to a Docker container?\"\n",
    "\n",
    "# Define the search query\n",
    "search_query = {\n",
    "    \"multi_match\": {\n",
    "        \"query\": q2,\n",
    "        \"fields\": [\"question^4\", \"text\"],\n",
    "        \"type\": \"best_fields\"\n",
    "    }\n",
    "}\n",
    "\n",
    "# Execute the search using top-level 'query' parameter\n",
    "response = es.search(\n",
    "    index=\"my-index\",\n",
    "    query=search_query,\n",
    "    size=3  # Get the top 3 results\n",
    ")\n",
    "\n",
    "# Print 3rd result\n",
    "print(response[\"hits\"][\"hits\"][2][\"_source\"][\"question\"])"
   ]
  },
  {
   "cell_type": "markdown",
   "metadata": {},
   "source": [
    "5. Building a prompt"
   ]
  },
  {
   "cell_type": "code",
   "execution_count": 37,
   "metadata": {},
   "outputs": [
    {
     "name": "stdout",
     "output_type": "stream",
     "text": [
      "Prompt:  You're a course teaching assistant. Answer the QUESTION based on the CONTEXT from the FAQ database.\n",
      "Use only the facts from the CONTEXT when answering the QUESTION.\n",
      "\n",
      "QUESTION: How do copy a file to a Docker container?\n",
      "\n",
      "CONTEXT:\n",
      "Q: How do I debug a docker container? A: Launch the container image in interactive mode and overriding the entrypoint, so that it starts a bash command.\n",
      "docker run -it --entrypoint bash <image>\n",
      "If the container is already running, execute a command in the specific container:\n",
      "docker ps (find the container-id)\n",
      "docker exec -it <container-id> bash\n",
      "(Marcos MJD)Q: How do I copy files from my local machine to docker container? A: You can copy files from your local machine into a Docker container using the docker cp command. Here's how to do it:\n",
      "To copy a file or directory from your local machine into a running Docker container, you can use the `docker cp command`. The basic syntax is as follows:\n",
      "docker cp /path/to/local/file_or_directory container_id:/path/in/container\n",
      "Hrithik Kumar AdvaniQ: How do I copy files from a different folder into docker container’s working directory? A: You can copy files from your local machine into a Docker container using the docker cp command. Here's how to do it:\n",
      "In the Dockerfile, you can provide the folder containing the files that you want to copy over. The basic syntax is as follows:\n",
      "COPY [\"src/predict.py\", \"models/xgb_model.bin\", \"./\"]\t\t\t\t\t\t\t\t\t\t\tGopakumar Gopinathan\n",
      "\n",
      "Length of prompt:  1442\n"
     ]
    }
   ],
   "source": [
    "context = \"\"\n",
    "\n",
    "for doc in response[\"hits\"][\"hits\"]:\n",
    "    # context = context + f\"section: {doc['_source']['section']}\\n question: {doc['_source']['question']}\\n answer: {doc['_source']['text']}\\n\\n\"\n",
    "    context =  context + f\"Q: {doc['_source']['question']} A: {doc['_source']['text']}\".strip()\n",
    "\n",
    "prompt_template = \"\"\"\n",
    "You're a course teaching assistant. Answer the QUESTION based on the CONTEXT from the FAQ database.\n",
    "Use only the facts from the CONTEXT when answering the QUESTION.\n",
    "\n",
    "QUESTION: {question}\n",
    "\n",
    "CONTEXT:\n",
    "{context}\n",
    "\"\"\".strip()\n",
    "\n",
    "prompt = prompt_template.format(question=q2, context=context).strip()\n",
    "\n",
    "print(\"Prompt: \", prompt)\n",
    "print(\"\\nLength of prompt: \", len(prompt))"
   ]
  },
  {
   "cell_type": "markdown",
   "metadata": {},
   "source": [
    "6. Tokens"
   ]
  },
  {
   "cell_type": "code",
   "execution_count": 40,
   "metadata": {},
   "outputs": [
    {
     "name": "stdout",
     "output_type": "stream",
     "text": [
      "319\n"
     ]
    }
   ],
   "source": [
    "encoding = tiktoken.encoding_for_model(\"gpt-4o\")\n",
    "\n",
    "# Count the number of tokens in the prompt\n",
    "prompt = prompt_template.format(question=q2, context=context).strip()\n",
    "print(len(encoding.encode(prompt)))\n"
   ]
  },
  {
   "cell_type": "markdown",
   "metadata": {},
   "source": [
    "Bonus\n",
    "\n",
    "Use cohere to generate answer "
   ]
  },
  {
   "cell_type": "code",
   "execution_count": 42,
   "metadata": {},
   "outputs": [],
   "source": [
    "def initiate_cohere():\n",
    "\n",
    "    api_key = os.getenv(\"COHERE_API_KEY\")\n",
    "\n",
    "    if api_key is None:\n",
    "        raise EnvironmentError(\"COHERE_API_KEY environment variable not set. Please set it before running this notebook.\")\n",
    "\n",
    "    co = cohere.ClientV2()\n",
    "\n",
    "    return co\n",
    "\n",
    "def pretty_print_cohere_response(response):\n",
    "    \"\"\"\n",
    "    Pretty-print a Cohere API response object using its .dict() method.\n",
    "    \n",
    "    Args:\n",
    "        response: A Cohere API response object (e.g., ChatResponse).\n",
    "    \"\"\"\n",
    "    response_dict = response.dict()\n",
    "    print(json.dumps(response_dict, indent=2))\n",
    "\n",
    "co = initiate_cohere()"
   ]
  },
  {
   "cell_type": "code",
   "execution_count": 44,
   "metadata": {},
   "outputs": [
    {
     "name": "stdout",
     "output_type": "stream",
     "text": [
      "{\n",
      "  \"id\": \"cae87f63-c3bb-4622-95c8-f28c6a59ee33\",\n",
      "  \"finish_reason\": \"COMPLETE\",\n",
      "  \"message\": {\n",
      "    \"role\": \"assistant\",\n",
      "    \"content\": [\n",
      "      {\n",
      "        \"type\": \"text\",\n",
      "        \"text\": \"You can copy files from your local machine into a Docker container using the docker cp command. The basic syntax is as follows:\\ndocker cp /path/to/local/file_or_directory container_id:/path/in/container\"\n",
      "      }\n",
      "    ],\n",
      "    \"citations\": [\n",
      "      {\n",
      "        \"start\": 77,\n",
      "        \"end\": 95,\n",
      "        \"text\": \"docker cp command.\",\n",
      "        \"sources\": [\n",
      "          {\n",
      "            \"type\": \"document\",\n",
      "            \"id\": \"doc:0\",\n",
      "            \"document\": {\n",
      "              \"content\": \"Q: How do I debug a docker container? A: Launch the container image in interactive mode and overriding the entrypoint, so that it starts a bash command.\\ndocker run -it --entrypoint bash <image>\\nIf the container is already running, execute a command in the specific container:\\ndocker ps (find the container-id)\\ndocker exec -it <container-id> bash\\n(Marcos MJD)Q: How do I copy files from my local machine to docker container? A: You can copy files from your local machine into a Docker container using the docker cp command. Here's how to do it:\\nTo copy a file or directory from your local machine into a running Docker container, you can use the `docker cp command`. The basic syntax is as follows:\\ndocker cp /path/to/local/file_or_directory container_id:/path/in/container\\nHrithik Kumar AdvaniQ: How do I copy files from a different folder into docker container\\u2019s working directory? A: You can copy files from your local machine into a Docker container using the docker cp command. Here's how to do it:\\nIn the Dockerfile, you can provide the folder containing the files that you want to copy over. The basic syntax is as follows:\\nCOPY [\\\"src/predict.py\\\", \\\"models/xgb_model.bin\\\", \\\"./\\\"]\\t\\t\\t\\t\\t\\t\\t\\t\\t\\t\\tGopakumar Gopinathan\",\n",
      "              \"id\": \"doc:0\"\n",
      "            }\n",
      "          }\n",
      "        ],\n",
      "        \"type\": \"TEXT_CONTENT\"\n",
      "      },\n",
      "      {\n",
      "        \"start\": 128,\n",
      "        \"end\": 202,\n",
      "        \"text\": \"docker cp /path/to/local/file_or_directory container_id:/path/in/container\",\n",
      "        \"sources\": [\n",
      "          {\n",
      "            \"type\": \"document\",\n",
      "            \"id\": \"doc:0\",\n",
      "            \"document\": {\n",
      "              \"content\": \"Q: How do I debug a docker container? A: Launch the container image in interactive mode and overriding the entrypoint, so that it starts a bash command.\\ndocker run -it --entrypoint bash <image>\\nIf the container is already running, execute a command in the specific container:\\ndocker ps (find the container-id)\\ndocker exec -it <container-id> bash\\n(Marcos MJD)Q: How do I copy files from my local machine to docker container? A: You can copy files from your local machine into a Docker container using the docker cp command. Here's how to do it:\\nTo copy a file or directory from your local machine into a running Docker container, you can use the `docker cp command`. The basic syntax is as follows:\\ndocker cp /path/to/local/file_or_directory container_id:/path/in/container\\nHrithik Kumar AdvaniQ: How do I copy files from a different folder into docker container\\u2019s working directory? A: You can copy files from your local machine into a Docker container using the docker cp command. Here's how to do it:\\nIn the Dockerfile, you can provide the folder containing the files that you want to copy over. The basic syntax is as follows:\\nCOPY [\\\"src/predict.py\\\", \\\"models/xgb_model.bin\\\", \\\"./\\\"]\\t\\t\\t\\t\\t\\t\\t\\t\\t\\t\\tGopakumar Gopinathan\",\n",
      "              \"id\": \"doc:0\"\n",
      "            }\n",
      "          }\n",
      "        ],\n",
      "        \"type\": \"TEXT_CONTENT\"\n",
      "      }\n",
      "    ]\n",
      "  },\n",
      "  \"usage\": {\n",
      "    \"billed_units\": {\n",
      "      \"input_tokens\": 308.0,\n",
      "      \"output_tokens\": 49.0\n",
      "    },\n",
      "    \"tokens\": {\n",
      "      \"input_tokens\": 1974.0,\n",
      "      \"output_tokens\": 72.0\n",
      "    }\n",
      "  }\n",
      "}\n"
     ]
    }
   ],
   "source": [
    "response = co.chat(\n",
    "    model=\"command-a-03-2025\",\n",
    "    messages=[{\"role\": \"user\", \"content\": q2}],\n",
    "    documents=[context]\n",
    ")\n",
    "\n",
    "pretty_print_cohere_response(response)"
   ]
  },
  {
   "cell_type": "code",
   "execution_count": 47,
   "metadata": {},
   "outputs": [
    {
     "name": "stdout",
     "output_type": "stream",
     "text": [
      "Question:  How do copy a file to a Docker container?\n",
      "Answer:  You can copy files from your local machine into a Docker container using the docker cp command. The basic syntax is as follows:\n",
      "docker cp /path/to/local/file_or_directory container_id:/path/in/container\n"
     ]
    }
   ],
   "source": [
    "print(\"Question: \", q2)\n",
    "print(\"Answer: \", response.message.content[0].text)"
   ]
  }
 ],
 "metadata": {
  "kernelspec": {
   "display_name": "llmzoomcamp",
   "language": "python",
   "name": "python3"
  },
  "language_info": {
   "codemirror_mode": {
    "name": "ipython",
    "version": 3
   },
   "file_extension": ".py",
   "mimetype": "text/x-python",
   "name": "python",
   "nbconvert_exporter": "python",
   "pygments_lexer": "ipython3",
   "version": "3.10.18"
  }
 },
 "nbformat": 4,
 "nbformat_minor": 2
}
