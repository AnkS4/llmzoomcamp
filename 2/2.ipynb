{
 "cells": [
  {
   "cell_type": "code",
   "execution_count": 1,
   "metadata": {},
   "outputs": [
    {
     "name": "stderr",
     "output_type": "stream",
     "text": [
      "/home/l13/miniforge3/envs/llmzoomcamp/lib/python3.10/site-packages/tqdm/auto.py:21: TqdmWarning: IProgress not found. Please update jupyter and ipywidgets. See https://ipywidgets.readthedocs.io/en/stable/user_install.html\n",
      "  from .autonotebook import tqdm as notebook_tqdm\n"
     ]
    }
   ],
   "source": [
    "from fastembed import TextEmbedding\n",
    "import numpy as np"
   ]
  },
  {
   "cell_type": "markdown",
   "metadata": {},
   "source": [
    "1. Embedding the query"
   ]
  },
  {
   "cell_type": "code",
   "execution_count": 2,
   "metadata": {},
   "outputs": [
    {
     "name": "stdout",
     "output_type": "stream",
     "text": [
      "(384,)\n",
      "-0.28601003\n"
     ]
    }
   ],
   "source": [
    "# Initialize the text embedding model with the specified pre-trained model\n",
    "model = TextEmbedding(model='jinaai/jina-embeddings-v2-small-en')\n",
    "\n",
    "# Define the input query to be embedded\n",
    "query = 'I just discovered the course. Can I join now?'\n",
    "\n",
    "# Generate the embedding for the query and extract the first (and only) embedding from the list\n",
    "embedding1 = list(model.embed([query]))[0]\n",
    "\n",
    "# Print the shape of the embedding vector\n",
    "print(embedding1.shape)\n",
    "\n",
    "# Print the minimum value in the embedding vector\n",
    "print(np.min(embedding1))"
   ]
  },
  {
   "cell_type": "code",
   "execution_count": 3,
   "metadata": {},
   "outputs": [
    {
     "name": "stdout",
     "output_type": "stream",
     "text": [
      "1.0\n",
      "1.0\n"
     ]
    }
   ],
   "source": [
    "# Verify the normalization of the embedding to be 1.0\n",
    "print(np.linalg.norm(embedding1))\n",
    "\n",
    "# Check the cosine similarity of same embedding\n",
    "print(embedding1.dot(embedding1))"
   ]
  },
  {
   "cell_type": "markdown",
   "metadata": {},
   "source": [
    "2. Cosine similarity with another vector"
   ]
  },
  {
   "cell_type": "code",
   "execution_count": 4,
   "metadata": {},
   "outputs": [
    {
     "name": "stdout",
     "output_type": "stream",
     "text": [
      "0.9\n"
     ]
    }
   ],
   "source": [
    "doc = 'Can I still join the course after the start date?'\n",
    "\n",
    "# Generate the embedding for the query and extract the first (and only) embedding from the list\n",
    "embedding2 = list(model.embed([doc]))[0]\n",
    "\n",
    "# Check the cosine similarity between the two embeddings\n",
    "print(round(embedding1.dot(embedding2), 1))"
   ]
  },
  {
   "cell_type": "code",
   "execution_count": 5,
   "metadata": {},
   "outputs": [
    {
     "name": "stdout",
     "output_type": "stream",
     "text": [
      "(384,)\n"
     ]
    }
   ],
   "source": [
    "documents = [{'text': \"Yes, even if you don't register, you're still eligible to submit the homeworks.\\nBe aware, however, that there will be deadlines for turning in the final projects. So don't leave everything for the last minute.\",\n",
    "  'section': 'General course-related questions',\n",
    "  'question': 'Course - Can I still join the course after the start date?',\n",
    "  'course': 'data-engineering-zoomcamp'},\n",
    " {'text': 'Yes, we will keep all the materials after the course finishes, so you can follow the course at your own pace after it finishes.\\nYou can also continue looking at the homeworks and continue preparing for the next cohort. I guess you can also start working on your final capstone project.',\n",
    "  'section': 'General course-related questions',\n",
    "  'question': 'Course - Can I follow the course after it finishes?',\n",
    "  'course': 'data-engineering-zoomcamp'},\n",
    " {'text': \"The purpose of this document is to capture frequently asked technical questions\\nThe exact day and hour of the course will be 15th Jan 2024 at 17h00. The course will start with the first  “Office Hours'' live.1\\nSubscribe to course public Google Calendar (it works from Desktop only).\\nRegister before the course starts using this link.\\nJoin the course Telegram channel with announcements.\\nDon’t forget to register in DataTalks.Club's Slack and join the channel.\",\n",
    "  'section': 'General course-related questions',\n",
    "  'question': 'Course - When will the course start?',\n",
    "  'course': 'data-engineering-zoomcamp'},\n",
    " {'text': 'You can start by installing and setting up all the dependencies and requirements:\\nGoogle cloud account\\nGoogle Cloud SDK\\nPython 3 (installed with Anaconda)\\nTerraform\\nGit\\nLook over the prerequisites and syllabus to see if you are comfortable with these subjects.',\n",
    "  'section': 'General course-related questions',\n",
    "  'question': 'Course - What can I do before the course starts?',\n",
    "  'course': 'data-engineering-zoomcamp'},\n",
    " {'text': 'Star the repo! Share it with friends if you find it useful ❣️\\nCreate a PR if you see you can improve the text or the structure of the repository.',\n",
    "  'section': 'General course-related questions',\n",
    "  'question': 'How can we contribute to the course?',\n",
    "  'course': 'data-engineering-zoomcamp'}]\n",
    "\n",
    "# Generate the embedding for the documents and extract the first (and only) embedding from the list\n",
    "embeddings3 = list(model.embed([doc['text'] for doc in documents]))\n",
    "\n",
    "# Print the shape of the embedding vector\n",
    "print(embeddings3[0].shape)"
   ]
  },
  {
   "cell_type": "markdown",
   "metadata": {},
   "source": [
    "3. Ranking by cosine"
   ]
  },
  {
   "cell_type": "code",
   "execution_count": 6,
   "metadata": {},
   "outputs": [
    {
     "name": "stdout",
     "output_type": "stream",
     "text": [
      "The index of the maximum cosine similarity is:  2\n",
      "The maximum cosine similarity is:  0.69218606\n",
      "The most similar document is:  The purpose of this document is to capture frequently asked technical questions\n",
      "The exact day and hour of the course will be 15th Jan 2024 at 17h00. The course will start with the first  “Office Hours'' live.1\n",
      "Subscribe to course public Google Calendar (it works from Desktop only).\n",
      "Register before the course starts using this link.\n",
      "Join the course Telegram channel with announcements.\n",
      "Don’t forget to register in DataTalks.Club's Slack and join the channel.\n"
     ]
    }
   ],
   "source": [
    "# Put the embeddings3 calculated in for each document to a vector V\n",
    "V1 = np.array([embedding for embedding in embeddings3])\n",
    "\n",
    "# Calculate the cosine similarity between each embedding and the query\n",
    "cosine_similarities1 = V1.dot(embedding1)\n",
    "\n",
    "# Find the index of the maximum cosine similarity\n",
    "max_index1 = np.argmax(cosine_similarities1)\n",
    "\n",
    "# Print the document with the maximum cosine similarity\n",
    "print(\"The index of the maximum cosine similarity is: \", max_index1)\n",
    "print(\"The maximum cosine similarity is: \", cosine_similarities1[max_index1])\n",
    "print(\"The most similar document is: \", documents[max_index1]['text'])"
   ]
  },
  {
   "cell_type": "code",
   "execution_count": 7,
   "metadata": {},
   "outputs": [
    {
     "name": "stdout",
     "output_type": "stream",
     "text": [
      "The index of the maximum cosine similarity is:  2\n",
      "The maximum cosine similarity is:  0.7002325\n",
      "The most similar document is:  The purpose of this document is to capture frequently asked technical questions\n",
      "The exact day and hour of the course will be 15th Jan 2024 at 17h00. The course will start with the first  “Office Hours'' live.1\n",
      "Subscribe to course public Google Calendar (it works from Desktop only).\n",
      "Register before the course starts using this link.\n",
      "Join the course Telegram channel with announcements.\n",
      "Don’t forget to register in DataTalks.Club's Slack and join the channel.\n"
     ]
    }
   ],
   "source": [
    "# For each doc in documents, concatenate the question and text into a single string\n",
    "full_text = [doc['question'] + ' ' + doc['text'] for doc in documents]\n",
    "\n",
    "# Generate the embedding for the full text and extract the first (and only) embedding from the list\n",
    "embeddings4 = list(model.embed(full_text))\n",
    "\n",
    "# Put the embeddings4 calculated in for each document to a vector V\n",
    "V2 = np.array([embedding for embedding in embeddings4])\n",
    "\n",
    "# Calculate the cosine similarity between each embedding and the query\n",
    "cosine_similarities2 = V2.dot(embedding1)\n",
    "\n",
    "# Find the index of the maximum cosine similarity\n",
    "max_index2 = np.argmax(cosine_similarities2)\n",
    "\n",
    "# Print the document with the maximum cosine similarity\n",
    "print(\"The index of the maximum cosine similarity is: \", max_index2)\n",
    "print(\"The maximum cosine similarity is: \", cosine_similarities2[max_index2])\n",
    "print(\"The most similar document is: \", documents[max_index2]['text'])"
   ]
  },
  {
   "cell_type": "markdown",
   "metadata": {},
   "source": [
    "5. Selecting the embedding model"
   ]
  },
  {
   "cell_type": "code",
   "execution_count": null,
   "metadata": {},
   "outputs": [],
   "source": []
  }
 ],
 "metadata": {
  "kernelspec": {
   "display_name": "llmzoomcamp",
   "language": "python",
   "name": "python3"
  },
  "language_info": {
   "codemirror_mode": {
    "name": "ipython",
    "version": 3
   },
   "file_extension": ".py",
   "mimetype": "text/x-python",
   "name": "python",
   "nbconvert_exporter": "python",
   "pygments_lexer": "ipython3",
   "version": "3.10.18"
  }
 },
 "nbformat": 4,
 "nbformat_minor": 2
}
