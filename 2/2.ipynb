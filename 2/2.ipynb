{
 "cells": [
  {
   "cell_type": "code",
   "execution_count": 1,
   "metadata": {},
   "outputs": [
    {
     "name": "stderr",
     "output_type": "stream",
     "text": [
      "/home/l13/miniforge3/envs/llmzoomcamp/lib/python3.10/site-packages/tqdm/auto.py:21: TqdmWarning: IProgress not found. Please update jupyter and ipywidgets. See https://ipywidgets.readthedocs.io/en/stable/user_install.html\n",
      "  from .autonotebook import tqdm as notebook_tqdm\n"
     ]
    }
   ],
   "source": [
    "from fastembed import TextEmbedding\n",
    "import numpy as np"
   ]
  },
  {
   "cell_type": "markdown",
   "metadata": {},
   "source": [
    "1. Embedding the query"
   ]
  },
  {
   "cell_type": "code",
   "execution_count": 2,
   "metadata": {},
   "outputs": [
    {
     "name": "stdout",
     "output_type": "stream",
     "text": [
      "(384,)\n",
      "-0.28601003\n"
     ]
    }
   ],
   "source": [
    "# Initialize the text embedding model with the specified pre-trained model\n",
    "model = TextEmbedding(model='jinaai/jina-embeddings-v2-small-en')\n",
    "\n",
    "# Define the input query to be embedded\n",
    "query = 'I just discovered the course. Can I join now?'\n",
    "\n",
    "# Generate the embedding for the query and extract the first (and only) embedding from the list\n",
    "embedding = list(model.embed([query]))[0]\n",
    "\n",
    "# Print the shape of the embedding vector\n",
    "print(embedding.shape)\n",
    "\n",
    "# Print the minimum value in the embedding vector\n",
    "print(np.min(embedding))"
   ]
  },
  {
   "cell_type": "code",
   "execution_count": 3,
   "metadata": {},
   "outputs": [
    {
     "name": "stdout",
     "output_type": "stream",
     "text": [
      "1.0\n",
      "1.0\n"
     ]
    }
   ],
   "source": [
    "# Verify the normalization of the embedding to be 1.0\n",
    "print(np.linalg.norm(embedding))\n",
    "\n",
    "# Check the cosine similarity of same embedding\n",
    "print(embedding.dot(embedding))"
   ]
  },
  {
   "cell_type": "markdown",
   "metadata": {},
   "source": [
    "2. Cosine similarity with another vector"
   ]
  },
  {
   "cell_type": "code",
   "execution_count": 4,
   "metadata": {},
   "outputs": [
    {
     "name": "stdout",
     "output_type": "stream",
     "text": [
      "0.9\n"
     ]
    }
   ],
   "source": [
    "query2 = 'Can I still join the course after the start date?'\n",
    "\n",
    "# Generate the embedding for the query and extract the first (and only) embedding from the list\n",
    "embedding2 = list(model.embed([query2]))[0]\n",
    "\n",
    "# Check the cosine similarity between the two embeddings\n",
    "print(round(embedding.dot(embedding2), 1))"
   ]
  }
 ],
 "metadata": {
  "kernelspec": {
   "display_name": "llmzoomcamp",
   "language": "python",
   "name": "python3"
  },
  "language_info": {
   "codemirror_mode": {
    "name": "ipython",
    "version": 3
   },
   "file_extension": ".py",
   "mimetype": "text/x-python",
   "name": "python",
   "nbconvert_exporter": "python",
   "pygments_lexer": "ipython3",
   "version": "3.10.18"
  }
 },
 "nbformat": 4,
 "nbformat_minor": 2
}
