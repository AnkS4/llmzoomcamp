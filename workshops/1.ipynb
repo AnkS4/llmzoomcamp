{
 "cells": [
  {
   "cell_type": "code",
   "execution_count": null,
   "id": "334f5fd5",
   "metadata": {},
   "outputs": [],
   "source": [
    "# !pip install -q \"dlt[qdrant]\" \"qdrant-client[fastembed]\""
   ]
  },
  {
   "cell_type": "code",
   "execution_count": 21,
   "id": "ac42d9f4",
   "metadata": {},
   "outputs": [],
   "source": [
    "import dlt\n",
    "import requests\n",
    "import json"
   ]
  },
  {
   "cell_type": "markdown",
   "id": "a7bd3902",
   "metadata": {},
   "source": [
    "1. dlt version"
   ]
  },
  {
   "cell_type": "code",
   "execution_count": 5,
   "id": "fdd827fc",
   "metadata": {},
   "outputs": [
    {
     "name": "stdout",
     "output_type": "stream",
     "text": [
      "\u001b[39mdlt 1.12.3\u001b[0m\n"
     ]
    }
   ],
   "source": [
    "!dlt --version"
   ]
  },
  {
   "cell_type": "code",
   "execution_count": 8,
   "id": "c1702aa7",
   "metadata": {},
   "outputs": [],
   "source": [
    "@dlt.resource\n",
    "def zoomcamp_data():\n",
    "    docs_url = 'https://github.com/alexeygrigorev/llm-rag-workshop/raw/main/notebooks/documents.json'\n",
    "    docs_response = requests.get(docs_url)\n",
    "    documents_raw = docs_response.json()\n",
    "\n",
    "    for course in documents_raw:\n",
    "        course_name = course['course']\n",
    "\n",
    "        for doc in course['documents']:\n",
    "            doc['course'] = course_name\n",
    "            yield doc"
   ]
  },
  {
   "cell_type": "code",
   "execution_count": 9,
   "id": "ea119ed0",
   "metadata": {},
   "outputs": [],
   "source": [
    "from dlt.destinations import qdrant\n",
    "\n",
    "qdrant_destination = qdrant(\n",
    "  qd_path=\"db.qdrant\", \n",
    ")"
   ]
  },
  {
   "cell_type": "markdown",
   "id": "8df6c1b1",
   "metadata": {},
   "source": [
    "2. rows inserted into the zoomcamp_data collection"
   ]
  },
  {
   "cell_type": "code",
   "execution_count": 10,
   "id": "5c2d74ce",
   "metadata": {},
   "outputs": [
    {
     "name": "stderr",
     "output_type": "stream",
     "text": [
      "/home/l13/miniforge3/envs/llmzoomcamp/lib/python3.10/site-packages/tqdm/auto.py:21: TqdmWarning: IProgress not found. Please update jupyter and ipywidgets. See https://ipywidgets.readthedocs.io/en/stable/user_install.html\n",
      "  from .autonotebook import tqdm as notebook_tqdm\n",
      "Fetching 5 files: 100%|██████████| 5/5 [00:01<00:00,  2.93it/s]\n"
     ]
    },
    {
     "name": "stdout",
     "output_type": "stream",
     "text": [
      "Run started at 2025-07-08 13:59:20.859148+00:00 and COMPLETED in 11.41 seconds with 4 steps.\n",
      "Step extract COMPLETED in 0.80 seconds.\n",
      "\n",
      "Load package 1751983164.7956796 is EXTRACTED and NOT YET LOADED to the destination and contains no failed jobs\n",
      "\n",
      "Step normalize COMPLETED in 0.10 seconds.\n",
      "Normalized data for the following tables:\n",
      "- zoomcamp_data: 948 row(s)\n",
      "- _dlt_pipeline_state: 1 row(s)\n",
      "\n",
      "Load package 1751983164.7956796 is NORMALIZED and NOT YET LOADED to the destination and contains no failed jobs\n",
      "\n",
      "Step load COMPLETED in 6.58 seconds.\n",
      "Pipeline zoomcamp_pipeline load step completed in 6.56 seconds\n",
      "1 load package(s) were loaded to destination qdrant and into dataset zoomcamp_tagged_data\n",
      "The qdrant destination used /home/l13/REPO/llmzoomcamp/workshops/db.qdrant location to store data\n",
      "Load package 1751983164.7956796 is LOADED and contains no failed jobs\n",
      "\n",
      "Step run COMPLETED in 11.41 seconds.\n",
      "Pipeline zoomcamp_pipeline load step completed in 6.56 seconds\n",
      "1 load package(s) were loaded to destination qdrant and into dataset zoomcamp_tagged_data\n",
      "The qdrant destination used /home/l13/REPO/llmzoomcamp/workshops/db.qdrant location to store data\n",
      "Load package 1751983164.7956796 is LOADED and contains no failed jobs\n"
     ]
    }
   ],
   "source": [
    "pipeline = dlt.pipeline(\n",
    "    pipeline_name=\"zoomcamp_pipeline\",\n",
    "    destination=qdrant_destination,\n",
    "    dataset_name=\"zoomcamp_tagged_data\"\n",
    "\n",
    ")\n",
    "load_info = pipeline.run(zoomcamp_data())\n",
    "print(pipeline.last_trace)"
   ]
  },
  {
   "cell_type": "markdown",
   "id": "ccad0f56",
   "metadata": {},
   "source": [
    "3. Embedding model used"
   ]
  },
  {
   "cell_type": "code",
   "execution_count": null,
   "id": "72b67d5c",
   "metadata": {},
   "outputs": [
    {
     "name": "stdout",
     "output_type": "stream",
     "text": [
      "dict_keys(['fast-bge-small-en'])\n"
     ]
    }
   ],
   "source": [
    "# Read the data and print model used from qdrant json file\n",
    "with open('db.qdrant/meta.json', 'r') as f:\n",
    "    meta = json.load(f)\n",
    "\n",
    "print(meta['collections']['zoomcamp_tagged_data']['vectors'].keys())"
   ]
  },
  {
   "cell_type": "code",
   "execution_count": null,
   "id": "362c98b0",
   "metadata": {},
   "outputs": [],
   "source": []
  }
 ],
 "metadata": {
  "kernelspec": {
   "display_name": "llmzoomcamp",
   "language": "python",
   "name": "python3"
  },
  "language_info": {
   "codemirror_mode": {
    "name": "ipython",
    "version": 3
   },
   "file_extension": ".py",
   "mimetype": "text/x-python",
   "name": "python",
   "nbconvert_exporter": "python",
   "pygments_lexer": "ipython3",
   "version": "3.10.18"
  }
 },
 "nbformat": 4,
 "nbformat_minor": 5
}
